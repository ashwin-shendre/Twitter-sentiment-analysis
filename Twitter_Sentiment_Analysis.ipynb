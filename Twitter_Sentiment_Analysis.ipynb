{
  "nbformat": 4,
  "nbformat_minor": 0,
  "metadata": {
    "colab": {
      "name": "Twitter Sentiment Analysis",
      "provenance": [],
      "collapsed_sections": []
    },
    "kernelspec": {
      "name": "python3",
      "display_name": "Python 3"
    }
  },
  "cells": [
    {
      "cell_type": "markdown",
      "metadata": {
        "id": "3fLe9H9N08ov"
      },
      "source": [
        "##Twitter Sentiment Analysis of \"Sushant Singh Rajput\""
      ]
    },
    {
      "cell_type": "code",
      "metadata": {
        "id": "LO-La9Fj1Pgg"
      },
      "source": [
        "#Import the libraries\n",
        "import tweepy #to extract tweets from twitter\n",
        "from textblob import TextBlob\n",
        "from wordcloud import WordCloud\n",
        "import pandas as pd #for working with dataframes\n",
        "import numpy as np #linear algerbra\n",
        "import re #Regular Expression- to clean our tweets\n",
        "import matplotlib.pyplot as plt #data visualization\n",
        "plt.style.use(\"fivethirtyeight\")"
      ],
      "execution_count": null,
      "outputs": []
    },
    {
      "cell_type": "code",
      "metadata": {
        "id": "eT2Wg4NfUHp_",
        "colab": {
          "resources": {
            "http://localhost:8080/nbextensions/google.colab/files.js": {
              "data": "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",
              "ok": true,
              "headers": [
                [
                  "content-type",
                  "application/javascript"
                ]
              ],
              "status": 200,
              "status_text": ""
            }
          },
          "base_uri": "https://localhost:8080/",
          "height": 72
        },
        "outputId": "9e85f01b-a8ac-41ec-b820-7b882507eacb"
      },
      "source": [
        "from google.colab import files\n",
        "uploaded= files.upload()"
      ],
      "execution_count": null,
      "outputs": [
        {
          "output_type": "display_data",
          "data": {
            "text/html": [
              "\n",
              "     <input type=\"file\" id=\"files-cb1bdd60-1a86-43c1-b53f-14378d228437\" name=\"files[]\" multiple disabled\n",
              "        style=\"border:none\" />\n",
              "     <output id=\"result-cb1bdd60-1a86-43c1-b53f-14378d228437\">\n",
              "      Upload widget is only available when the cell has been executed in the\n",
              "      current browser session. Please rerun this cell to enable.\n",
              "      </output>\n",
              "      <script src=\"/nbextensions/google.colab/files.js\"></script> "
            ],
            "text/plain": [
              "<IPython.core.display.HTML object>"
            ]
          },
          "metadata": {
            "tags": []
          }
        },
        {
          "output_type": "stream",
          "text": [
            "Saving Twitter_login.csv to Twitter_login.csv\n"
          ],
          "name": "stdout"
        }
      ]
    },
    {
      "cell_type": "code",
      "metadata": {
        "id": "aSPS_hVsUPUu"
      },
      "source": [
        "log= pd.read_csv(\"Twitter_login.csv\")\n",
        "log.head()"
      ],
      "execution_count": null,
      "outputs": []
    },
    {
      "cell_type": "code",
      "metadata": {
        "id": "eva6Hm3i1xTw"
      },
      "source": [
        "#Twitter API Credentials\n",
        "consumer_key= log[\"Key\"][0]\n",
        "consumer_key_secret= log[\"Key\"][1]\n",
        "access_token= log[\"Key\"][2]\n",
        "access_token_secret= log[\"Key\"][3]"
      ],
      "execution_count": null,
      "outputs": []
    },
    {
      "cell_type": "code",
      "metadata": {
        "id": "Rk27nH43UqI7"
      },
      "source": [
        "#Create Authentication object\n",
        "authenticate= tweepy.OAuthHandler(consumer_key, consumer_key_secret)\n",
        "#Set access token and access token secret\n",
        "authenticate.set_access_token(access_token,access_token_secret)\n",
        "#Create the API object while passing in the auth information\n",
        "api = tweepy.API(authenticate, wait_on_rate_limit = True)"
      ],
      "execution_count": null,
      "outputs": []
    },
    {
      "cell_type": "code",
      "metadata": {
        "id": "L7XIdXtEWVu4"
      },
      "source": [
        "#Extract 100 tweets from a User Timeline\n",
        "posts= api.user_timeline(screen_name= \"itsSSR\", count= 100, lang = 'en', tweet_mode=\"extended\")\n",
        "posts"
      ],
      "execution_count": null,
      "outputs": []
    },
    {
      "cell_type": "markdown",
      "metadata": {
        "id": "JztDcIP1cWzM"
      },
      "source": [
        "There is a lot of information available about every different tweet.\n",
        "We will focus only on \"Full Text\"\n",
        "Lets see the last five tweets from his account!"
      ]
    },
    {
      "cell_type": "code",
      "metadata": {
        "id": "BjQptN__b0vy",
        "colab": {
          "base_uri": "https://localhost:8080/",
          "height": 224
        },
        "outputId": "e43aab3f-cdf8-46ff-8466-e026097ed18f"
      },
      "source": [
        "i = 1\n",
        "for tweet in posts[0:5]:\n",
        "  print(str(i) + \") \" + tweet.full_text + '/n')\n",
        "  i= i +1"
      ],
      "execution_count": null,
      "outputs": [
        {
          "output_type": "stream",
          "text": [
            "1) Right from exploring the local tourist attractions to experiencing the culture from a closer lens, it was just perfect! And what made it better was to get upto 5% cashback every-time I swiped my @mastercardindia @icicibank\n",
            "#TravelWithMastercard #StartSomethingPriceless https://t.co/YO3z865A5a/n\n",
            "2) \"Best wishes to all the retail employees for bringing a smile on customer's faces\" @SonataWatches @TRRAINindia/n\n",
            "3) Men have emotions too so don't be shy to cry.  It's okay to let it out and not hold it inside. It's not a weakness but a sign of strength. Be man enough to feel. Feeling is human\n",
            "@GilletteIndia #ManEnough #ShavingStereotypes #BestAManCanBe https://t.co/0bYc2hgvXq/n\n",
            "4) RT @Tarunmansukhani: Partners in crime and style! #Drive coming to your #Netflix screens TOMORROW!😎💃\n",
            "\n",
            "@karanjohar @apoorvamehta18 @itsSSR @…/n\n",
            "5) Thank you so much @HTBrunch for making one of my most cherished dreams come true. ❤️\n",
            "And a happy happy Diwali to everyone. 🙏🏻❤️🔱🍻💐✨\n",
            "#keepdreaming 💥 https://t.co/OarzjEG9Yr/n\n"
          ],
          "name": "stdout"
        }
      ]
    },
    {
      "cell_type": "markdown",
      "metadata": {
        "id": "p5NAxmuFebKo"
      },
      "source": [
        "So, This information is in set and we need to extract the full_text column from it and make a dataframe for easy analysis."
      ]
    },
    {
      "cell_type": "code",
      "metadata": {
        "id": "xoHAfuBUdOU_",
        "colab": {
          "base_uri": "https://localhost:8080/",
          "height": 204
        },
        "outputId": "a9af6f03-6bfd-497e-855d-cccc2d5c96b1"
      },
      "source": [
        "df= pd.DataFrame([tweets.full_text for tweets in posts], columns= [\"Tweets\"])\n",
        "df.head()"
      ],
      "execution_count": null,
      "outputs": [
        {
          "output_type": "execute_result",
          "data": {
            "text/html": [
              "<div>\n",
              "<style scoped>\n",
              "    .dataframe tbody tr th:only-of-type {\n",
              "        vertical-align: middle;\n",
              "    }\n",
              "\n",
              "    .dataframe tbody tr th {\n",
              "        vertical-align: top;\n",
              "    }\n",
              "\n",
              "    .dataframe thead th {\n",
              "        text-align: right;\n",
              "    }\n",
              "</style>\n",
              "<table border=\"1\" class=\"dataframe\">\n",
              "  <thead>\n",
              "    <tr style=\"text-align: right;\">\n",
              "      <th></th>\n",
              "      <th>Tweets</th>\n",
              "    </tr>\n",
              "  </thead>\n",
              "  <tbody>\n",
              "    <tr>\n",
              "      <th>0</th>\n",
              "      <td>Right from exploring the local tourist attract...</td>\n",
              "    </tr>\n",
              "    <tr>\n",
              "      <th>1</th>\n",
              "      <td>\"Best wishes to all the retail employees for b...</td>\n",
              "    </tr>\n",
              "    <tr>\n",
              "      <th>2</th>\n",
              "      <td>Men have emotions too so don't be shy to cry. ...</td>\n",
              "    </tr>\n",
              "    <tr>\n",
              "      <th>3</th>\n",
              "      <td>RT @Tarunmansukhani: Partners in crime and sty...</td>\n",
              "    </tr>\n",
              "    <tr>\n",
              "      <th>4</th>\n",
              "      <td>Thank you so much @HTBrunch for making one of ...</td>\n",
              "    </tr>\n",
              "  </tbody>\n",
              "</table>\n",
              "</div>"
            ],
            "text/plain": [
              "                                              Tweets\n",
              "0  Right from exploring the local tourist attract...\n",
              "1  \"Best wishes to all the retail employees for b...\n",
              "2  Men have emotions too so don't be shy to cry. ...\n",
              "3  RT @Tarunmansukhani: Partners in crime and sty...\n",
              "4  Thank you so much @HTBrunch for making one of ..."
            ]
          },
          "metadata": {
            "tags": []
          },
          "execution_count": 23
        }
      ]
    },
    {
      "cell_type": "markdown",
      "metadata": {
        "id": "BVSEtTAsfWjI"
      },
      "source": [
        "Noww, These tweets need text cleaning. Since they contain lots of hashtags, tags, emoticons, etc. It is where our re python module will come in handy!"
      ]
    },
    {
      "cell_type": "code",
      "metadata": {
        "id": "qD8gLMWHe9yo",
        "colab": {
          "base_uri": "https://localhost:8080/",
          "height": 204
        },
        "outputId": "43e9abd7-3158-4662-e3b3-fab1cfb1bd64"
      },
      "source": [
        "#Create function to clean tweets\n",
        "def cleantxt(text):\n",
        "  text= re.sub(r\"@[A-Za-z0-9]+\", \"\", text) #Remove Mentions\n",
        "  text= re.sub(r\"#\", \"\", text) #Remove # \n",
        "  text = text.encode('ascii', 'ignore').decode('ascii') #remove emoticons\n",
        "  text= re.sub(r\"RT[\\s]\", \"\", text) #Remove RT\n",
        "  text= re.sub(r\"https?://\\\\ + [A-Za-z0-9] +  \" , \"\", text) #Remove weblinks \n",
        "  return text\n",
        "\n",
        "df[\"Tweets\"]= df[\"Tweets\"].apply(cleantxt)\n",
        "df.head()\n",
        "  \n",
        "\n"
      ],
      "execution_count": null,
      "outputs": [
        {
          "output_type": "execute_result",
          "data": {
            "text/html": [
              "<div>\n",
              "<style scoped>\n",
              "    .dataframe tbody tr th:only-of-type {\n",
              "        vertical-align: middle;\n",
              "    }\n",
              "\n",
              "    .dataframe tbody tr th {\n",
              "        vertical-align: top;\n",
              "    }\n",
              "\n",
              "    .dataframe thead th {\n",
              "        text-align: right;\n",
              "    }\n",
              "</style>\n",
              "<table border=\"1\" class=\"dataframe\">\n",
              "  <thead>\n",
              "    <tr style=\"text-align: right;\">\n",
              "      <th></th>\n",
              "      <th>Tweets</th>\n",
              "      <th>Plrty</th>\n",
              "      <th>Sbjecty</th>\n",
              "      <th>Polarity</th>\n",
              "      <th>Subjectivity</th>\n",
              "    </tr>\n",
              "  </thead>\n",
              "  <tbody>\n",
              "    <tr>\n",
              "      <th>0</th>\n",
              "      <td>Right from exploring the local tourist attract...</td>\n",
              "      <td>0.446429</td>\n",
              "      <td>0.508929</td>\n",
              "      <td>0.446429</td>\n",
              "      <td>0.508929</td>\n",
              "    </tr>\n",
              "    <tr>\n",
              "      <th>1</th>\n",
              "      <td>\"Best wishes to all the retail employees for b...</td>\n",
              "      <td>0.650000</td>\n",
              "      <td>0.200000</td>\n",
              "      <td>0.650000</td>\n",
              "      <td>0.200000</td>\n",
              "    </tr>\n",
              "    <tr>\n",
              "      <th>2</th>\n",
              "      <td>Men have emotions too so don't be shy to cry. ...</td>\n",
              "      <td>0.000000</td>\n",
              "      <td>0.400000</td>\n",
              "      <td>0.000000</td>\n",
              "      <td>0.400000</td>\n",
              "    </tr>\n",
              "    <tr>\n",
              "      <th>3</th>\n",
              "      <td>: Partners in crime and style! Drive coming to...</td>\n",
              "      <td>0.000000</td>\n",
              "      <td>0.000000</td>\n",
              "      <td>0.000000</td>\n",
              "      <td>0.000000</td>\n",
              "    </tr>\n",
              "    <tr>\n",
              "      <th>4</th>\n",
              "      <td>Thank you so much  for making one of my most c...</td>\n",
              "      <td>0.530000</td>\n",
              "      <td>0.670000</td>\n",
              "      <td>0.530000</td>\n",
              "      <td>0.670000</td>\n",
              "    </tr>\n",
              "  </tbody>\n",
              "</table>\n",
              "</div>"
            ],
            "text/plain": [
              "                                              Tweets  ...  Subjectivity\n",
              "0  Right from exploring the local tourist attract...  ...      0.508929\n",
              "1  \"Best wishes to all the retail employees for b...  ...      0.200000\n",
              "2  Men have emotions too so don't be shy to cry. ...  ...      0.400000\n",
              "3  : Partners in crime and style! Drive coming to...  ...      0.000000\n",
              "4  Thank you so much  for making one of my most c...  ...      0.670000\n",
              "\n",
              "[5 rows x 5 columns]"
            ]
          },
          "metadata": {
            "tags": []
          },
          "execution_count": 63
        }
      ]
    },
    {
      "cell_type": "code",
      "metadata": {
        "id": "l0Km_0u46Akl",
        "colab": {
          "base_uri": "https://localhost:8080/",
          "height": 34
        },
        "outputId": "31e423be-a13d-4b8d-dd16-73a45a865d4c"
      },
      "source": [
        "review_sample= df.Tweets.iloc[3]\n",
        "review_sample"
      ],
      "execution_count": null,
      "outputs": [
        {
          "output_type": "execute_result",
          "data": {
            "text/plain": [
              "': Partners in crime and style! Drive coming to your Netflix screens TOMORROW!\\n\\n   @'"
            ]
          },
          "metadata": {
            "tags": []
          },
          "execution_count": 70
        }
      ]
    },
    {
      "cell_type": "markdown",
      "metadata": {
        "id": "gB5frbaNw5Q2"
      },
      "source": [
        "Now, Our data is pretty much cleaned. Lets look at Subjectivity and Polarity of our Tweets."
      ]
    },
    {
      "cell_type": "code",
      "metadata": {
        "id": "OiHZuHa5xS9_",
        "colab": {
          "base_uri": "https://localhost:8080/",
          "height": 419
        },
        "outputId": "51367f00-981c-4e88-eae8-aa8e16668811"
      },
      "source": [
        "def get_Subjectivity(text):\n",
        "  return TextBlob(text).sentiment.subjectivity\n",
        "def get_Polarity(text):\n",
        "  return TextBlob(text).sentiment.polarity\n",
        "\n",
        "\n",
        "df[\"Polarity\"]= df[\"Tweets\"].apply(get_Polarity)\n",
        "df[\"Subjectivity\"]= df.Tweets.apply(get_Subjectivity)\n",
        "df\n"
      ],
      "execution_count": null,
      "outputs": [
        {
          "output_type": "execute_result",
          "data": {
            "text/html": [
              "<div>\n",
              "<style scoped>\n",
              "    .dataframe tbody tr th:only-of-type {\n",
              "        vertical-align: middle;\n",
              "    }\n",
              "\n",
              "    .dataframe tbody tr th {\n",
              "        vertical-align: top;\n",
              "    }\n",
              "\n",
              "    .dataframe thead th {\n",
              "        text-align: right;\n",
              "    }\n",
              "</style>\n",
              "<table border=\"1\" class=\"dataframe\">\n",
              "  <thead>\n",
              "    <tr style=\"text-align: right;\">\n",
              "      <th></th>\n",
              "      <th>Tweets</th>\n",
              "      <th>Plrty</th>\n",
              "      <th>Sbjecty</th>\n",
              "      <th>Polarity</th>\n",
              "      <th>Subjectivity</th>\n",
              "    </tr>\n",
              "  </thead>\n",
              "  <tbody>\n",
              "    <tr>\n",
              "      <th>0</th>\n",
              "      <td>Right from exploring the local tourist attract...</td>\n",
              "      <td>0.446429</td>\n",
              "      <td>0.508929</td>\n",
              "      <td>0.446429</td>\n",
              "      <td>0.508929</td>\n",
              "    </tr>\n",
              "    <tr>\n",
              "      <th>1</th>\n",
              "      <td>\"Best wishes to all the retail employees for b...</td>\n",
              "      <td>0.650000</td>\n",
              "      <td>0.200000</td>\n",
              "      <td>0.650000</td>\n",
              "      <td>0.200000</td>\n",
              "    </tr>\n",
              "    <tr>\n",
              "      <th>2</th>\n",
              "      <td>Men have emotions too so don't be shy to cry. ...</td>\n",
              "      <td>0.000000</td>\n",
              "      <td>0.400000</td>\n",
              "      <td>0.000000</td>\n",
              "      <td>0.400000</td>\n",
              "    </tr>\n",
              "    <tr>\n",
              "      <th>3</th>\n",
              "      <td>: Partners in crime and style! Drive coming to...</td>\n",
              "      <td>0.000000</td>\n",
              "      <td>0.000000</td>\n",
              "      <td>0.000000</td>\n",
              "      <td>0.000000</td>\n",
              "    </tr>\n",
              "    <tr>\n",
              "      <th>4</th>\n",
              "      <td>Thank you so much  for making one of my most c...</td>\n",
              "      <td>0.530000</td>\n",
              "      <td>0.670000</td>\n",
              "      <td>0.530000</td>\n",
              "      <td>0.670000</td>\n",
              "    </tr>\n",
              "    <tr>\n",
              "      <th>...</th>\n",
              "      <td>...</td>\n",
              "      <td>...</td>\n",
              "      <td>...</td>\n",
              "      <td>...</td>\n",
              "      <td>...</td>\n",
              "    </tr>\n",
              "    <tr>\n",
              "      <th>95</th>\n",
              "      <td>Our eyes blinked in mutual agreement, much bef...</td>\n",
              "      <td>-0.133333</td>\n",
              "      <td>0.733333</td>\n",
              "      <td>-0.133333</td>\n",
              "      <td>0.733333</td>\n",
              "    </tr>\n",
              "    <tr>\n",
              "      <th>96</th>\n",
              "      <td>I got up this morning and looked at myself thr...</td>\n",
              "      <td>0.000000</td>\n",
              "      <td>0.000000</td>\n",
              "      <td>0.000000</td>\n",
              "      <td>0.000000</td>\n",
              "    </tr>\n",
              "    <tr>\n",
              "      <th>97</th>\n",
              "      <td>Thank you for being so kind and I assure you t...</td>\n",
              "      <td>0.600000</td>\n",
              "      <td>0.900000</td>\n",
              "      <td>0.600000</td>\n",
              "      <td>0.900000</td>\n",
              "    </tr>\n",
              "    <tr>\n",
              "      <th>98</th>\n",
              "      <td>Often the difference between what is miserable...</td>\n",
              "      <td>-0.200000</td>\n",
              "      <td>0.950000</td>\n",
              "      <td>-0.200000</td>\n",
              "      <td>0.950000</td>\n",
              "    </tr>\n",
              "    <tr>\n",
              "      <th>99</th>\n",
              "      <td>Please tell me what I could do. Prayers for th...</td>\n",
              "      <td>0.000000</td>\n",
              "      <td>0.000000</td>\n",
              "      <td>0.000000</td>\n",
              "      <td>0.000000</td>\n",
              "    </tr>\n",
              "  </tbody>\n",
              "</table>\n",
              "<p>100 rows × 5 columns</p>\n",
              "</div>"
            ],
            "text/plain": [
              "                                               Tweets  ...  Subjectivity\n",
              "0   Right from exploring the local tourist attract...  ...      0.508929\n",
              "1   \"Best wishes to all the retail employees for b...  ...      0.200000\n",
              "2   Men have emotions too so don't be shy to cry. ...  ...      0.400000\n",
              "3   : Partners in crime and style! Drive coming to...  ...      0.000000\n",
              "4   Thank you so much  for making one of my most c...  ...      0.670000\n",
              "..                                                ...  ...           ...\n",
              "95  Our eyes blinked in mutual agreement, much bef...  ...      0.733333\n",
              "96  I got up this morning and looked at myself thr...  ...      0.000000\n",
              "97  Thank you for being so kind and I assure you t...  ...      0.900000\n",
              "98  Often the difference between what is miserable...  ...      0.950000\n",
              "99  Please tell me what I could do. Prayers for th...  ...      0.000000\n",
              "\n",
              "[100 rows x 5 columns]"
            ]
          },
          "metadata": {
            "tags": []
          },
          "execution_count": 64
        }
      ]
    },
    {
      "cell_type": "markdown",
      "metadata": {
        "id": "36rDmojX8pOb"
      },
      "source": [
        "Great! Now, We know how much negative or positive each tweet on his account and their subjectivity.\n",
        "\n",
        "Curious, How WordCloud would look! Lets create it.\n"
      ]
    },
    {
      "cell_type": "code",
      "metadata": {
        "id": "FsZrtBwP5lil",
        "colab": {
          "base_uri": "https://localhost:8080/",
          "height": 264
        },
        "outputId": "b672ae6f-976a-443a-adc3-167175655c0a"
      },
      "source": [
        "#First we need to collect all our tweets in a single string\n",
        "\n",
        "String = \" \".join(x for x in df.Tweets)\n",
        "word_cloud = WordCloud(width= 600, height= 400, max_font_size= 200, background_color = \"white\").generate(String)\n",
        "plt.imshow(word_cloud, interpolation=\"bilinear\")\n",
        "plt.axis(\"off\")\n",
        "plt.show()\n"
      ],
      "execution_count": null,
      "outputs": [
        {
          "output_type": "display_data",
          "data": {
            "image/png": "[encoded data removed]",
            "text/plain": [
              "<Figure size 432x288 with 1 Axes>"
            ]
          },
          "metadata": {
            "tags": []
          }
        }
      ]
    },
    {
      "cell_type": "code",
      "metadata": {
        "id": "E1QZKiWN9eGI",
        "colab": {
          "base_uri": "https://localhost:8080/",
          "height": 419
        },
        "outputId": "557af2c6-f4e4-4e83-aa65-7df0204345d3"
      },
      "source": [
        "def get_analysis(score):\n",
        "  if score > 0:\n",
        "    return \"positive\"\n",
        "  elif score < 0:\n",
        "      return \"negative\"\n",
        "  else: \n",
        "      return 'neutral'\n",
        "df[\"Analysis\"] = df.Polarity.apply(get_analysis)\n",
        "df"
      ],
      "execution_count": null,
      "outputs": [
        {
          "output_type": "execute_result",
          "data": {
            "text/html": [
              "<div>\n",
              "<style scoped>\n",
              "    .dataframe tbody tr th:only-of-type {\n",
              "        vertical-align: middle;\n",
              "    }\n",
              "\n",
              "    .dataframe tbody tr th {\n",
              "        vertical-align: top;\n",
              "    }\n",
              "\n",
              "    .dataframe thead th {\n",
              "        text-align: right;\n",
              "    }\n",
              "</style>\n",
              "<table border=\"1\" class=\"dataframe\">\n",
              "  <thead>\n",
              "    <tr style=\"text-align: right;\">\n",
              "      <th></th>\n",
              "      <th>Tweets</th>\n",
              "      <th>Plrty</th>\n",
              "      <th>Sbjecty</th>\n",
              "      <th>Polarity</th>\n",
              "      <th>Subjectivity</th>\n",
              "      <th>Analysis</th>\n",
              "    </tr>\n",
              "  </thead>\n",
              "  <tbody>\n",
              "    <tr>\n",
              "      <th>0</th>\n",
              "      <td>Right from exploring the local tourist attract...</td>\n",
              "      <td>0.446429</td>\n",
              "      <td>0.508929</td>\n",
              "      <td>0.446429</td>\n",
              "      <td>0.508929</td>\n",
              "      <td>positive</td>\n",
              "    </tr>\n",
              "    <tr>\n",
              "      <th>1</th>\n",
              "      <td>\"Best wishes to all the retail employees for b...</td>\n",
              "      <td>0.650000</td>\n",
              "      <td>0.200000</td>\n",
              "      <td>0.650000</td>\n",
              "      <td>0.200000</td>\n",
              "      <td>positive</td>\n",
              "    </tr>\n",
              "    <tr>\n",
              "      <th>2</th>\n",
              "      <td>Men have emotions too so don't be shy to cry. ...</td>\n",
              "      <td>0.000000</td>\n",
              "      <td>0.400000</td>\n",
              "      <td>0.000000</td>\n",
              "      <td>0.400000</td>\n",
              "      <td>neutral</td>\n",
              "    </tr>\n",
              "    <tr>\n",
              "      <th>3</th>\n",
              "      <td>: Partners in crime and style! Drive coming to...</td>\n",
              "      <td>0.000000</td>\n",
              "      <td>0.000000</td>\n",
              "      <td>0.000000</td>\n",
              "      <td>0.000000</td>\n",
              "      <td>neutral</td>\n",
              "    </tr>\n",
              "    <tr>\n",
              "      <th>4</th>\n",
              "      <td>Thank you so much  for making one of my most c...</td>\n",
              "      <td>0.530000</td>\n",
              "      <td>0.670000</td>\n",
              "      <td>0.530000</td>\n",
              "      <td>0.670000</td>\n",
              "      <td>positive</td>\n",
              "    </tr>\n",
              "    <tr>\n",
              "      <th>...</th>\n",
              "      <td>...</td>\n",
              "      <td>...</td>\n",
              "      <td>...</td>\n",
              "      <td>...</td>\n",
              "      <td>...</td>\n",
              "      <td>...</td>\n",
              "    </tr>\n",
              "    <tr>\n",
              "      <th>95</th>\n",
              "      <td>Our eyes blinked in mutual agreement, much bef...</td>\n",
              "      <td>-0.133333</td>\n",
              "      <td>0.733333</td>\n",
              "      <td>-0.133333</td>\n",
              "      <td>0.733333</td>\n",
              "      <td>negative</td>\n",
              "    </tr>\n",
              "    <tr>\n",
              "      <th>96</th>\n",
              "      <td>I got up this morning and looked at myself thr...</td>\n",
              "      <td>0.000000</td>\n",
              "      <td>0.000000</td>\n",
              "      <td>0.000000</td>\n",
              "      <td>0.000000</td>\n",
              "      <td>neutral</td>\n",
              "    </tr>\n",
              "    <tr>\n",
              "      <th>97</th>\n",
              "      <td>Thank you for being so kind and I assure you t...</td>\n",
              "      <td>0.600000</td>\n",
              "      <td>0.900000</td>\n",
              "      <td>0.600000</td>\n",
              "      <td>0.900000</td>\n",
              "      <td>positive</td>\n",
              "    </tr>\n",
              "    <tr>\n",
              "      <th>98</th>\n",
              "      <td>Often the difference between what is miserable...</td>\n",
              "      <td>-0.200000</td>\n",
              "      <td>0.950000</td>\n",
              "      <td>-0.200000</td>\n",
              "      <td>0.950000</td>\n",
              "      <td>negative</td>\n",
              "    </tr>\n",
              "    <tr>\n",
              "      <th>99</th>\n",
              "      <td>Please tell me what I could do. Prayers for th...</td>\n",
              "      <td>0.000000</td>\n",
              "      <td>0.000000</td>\n",
              "      <td>0.000000</td>\n",
              "      <td>0.000000</td>\n",
              "      <td>neutral</td>\n",
              "    </tr>\n",
              "  </tbody>\n",
              "</table>\n",
              "<p>100 rows × 6 columns</p>\n",
              "</div>"
            ],
            "text/plain": [
              "                                               Tweets  ...  Analysis\n",
              "0   Right from exploring the local tourist attract...  ...  positive\n",
              "1   \"Best wishes to all the retail employees for b...  ...  positive\n",
              "2   Men have emotions too so don't be shy to cry. ...  ...   neutral\n",
              "3   : Partners in crime and style! Drive coming to...  ...   neutral\n",
              "4   Thank you so much  for making one of my most c...  ...  positive\n",
              "..                                                ...  ...       ...\n",
              "95  Our eyes blinked in mutual agreement, much bef...  ...  negative\n",
              "96  I got up this morning and looked at myself thr...  ...   neutral\n",
              "97  Thank you for being so kind and I assure you t...  ...  positive\n",
              "98  Often the difference between what is miserable...  ...  negative\n",
              "99  Please tell me what I could do. Prayers for th...  ...   neutral\n",
              "\n",
              "[100 rows x 6 columns]"
            ]
          },
          "metadata": {
            "tags": []
          },
          "execution_count": 77
        }
      ]
    },
    {
      "cell_type": "markdown",
      "metadata": {
        "id": "JBPKcSSeQVNu"
      },
      "source": [
        "Okay. Noww, Lets visualize the sentiments of tweets using a scatter plot"
      ]
    },
    {
      "cell_type": "code",
      "metadata": {
        "id": "fIqHibKaQUY0",
        "colab": {
          "base_uri": "https://localhost:8080/",
          "height": 325
        },
        "outputId": "0cc7d0bc-29c6-4998-e24b-65ef53ec7f36"
      },
      "source": [
        "plt.scatter(df.Polarity, df.Subjectivity)\n",
        "plt.title(\"Sentiment Analysis\")\n",
        "plt.xlabel(\"Polarity\")\n",
        "plt.ylabel(\"Subjectivity\")\n",
        "plt.show()\n",
        "\n",
        "               "
      ],
      "execution_count": null,
      "outputs": [
        {
          "output_type": "display_data",
          "data": {
            "image/png": "[encoded data removed]",
            "text/plain": [
              "<Figure size 432x288 with 1 Axes>"
            ]
          },
          "metadata": {
            "tags": []
          }
        }
      ]
    },
    {
      "cell_type": "markdown",
      "metadata": {
        "id": "kp4qgv4sRBQQ"
      },
      "source": [
        "Woah, Seems most of the tweets were positive. Only a few were negative. Lets look at the top negative tweets now!"
      ]
    },
    {
      "cell_type": "code",
      "metadata": {
        "id": "pAPBykYaNiCK",
        "colab": {
          "base_uri": "https://localhost:8080/",
          "height": 527
        },
        "outputId": "93879ddb-4d6d-4040-be92-a53705887540"
      },
      "source": [
        "j=1\n",
        "for i in range(0, df.shape[0]):\n",
        "  if df.Analysis[i]==\"negative\":\n",
        "    print( j , \") \" ,df.Tweets[i])\n",
        "    j= j+1 \n",
        "  "
      ],
      "execution_count": null,
      "outputs": [
        {
          "output_type": "stream",
          "text": [
            "1 )  The West says,we minimise evil by conquering it.\n",
            "India says, We destroy evil by suffering, until evil is nothing but positive enjoyment.\n",
            "The Goal is the same, however opposite it may appear. \n",
            "As we wend our way through this mazy vale of life, let us bid each other Godspeed. t.co/Hc26XKk7mp\n",
            "2 )  Lets please come together in any way possible to support our Bihar to get her out of this unfortunate predicament. May God be with us. \n",
            "Heres the Bihar chief minister's donation fund link Ive found that we could use. Jai Hind  \n",
            "t.co/0oO2BKd9R9 t.co/5cX850jzn7\n",
            "3 )  : Drive racing to Netflix soon &amp; Makhna coming to drive you crazy, sooner! Song out tomorrow at 12pm.\n",
            " \n",
            "4 )  : This is NASA's new visualization of a black hole.  The space agency says that it illustrates \"how its gravity distorts our view\n",
            "5 )  : Space is hard. We commend s attempt to land their Chandrayaan2 mission on the Moons South Pole. You have inspired us with\n",
            "6 )        Arey Sexaaa! Mere dost!\n",
            "Wohi Chhichhorapanti chalu hai na?! t.co/oVEUoewAF6\n",
            "7 )  An artists  attempt to interact with the unknown; with a Tesseract  !\n",
            "Crucifixion (Corpus Hypercubus)\n",
            "By Dali   \n",
            "CHRISTonaPolyhedronnet  4D \n",
            "nuclearmysticism \n",
            "dimensions \n",
            "transcendentcubism  t.co/XP1nGJELjo\n",
            "8 )  Acquired meanings that are not emergent of celebrations are highly likely to be misplaced. \n",
            "selfmusing \n",
            "9 )  Dream 33/150\n",
            "Create non-zero sum, darwinian, socio-economic structures that would enable at least 1 billion people by bio-mimicking (Non-linear Emergence) .\n",
            "livingmydreams \n",
            "lovingmydreams t.co/JimkCLh0t9\n",
            "10 )  Our eyes blinked in mutual agreement, much before our fervent attempts to negotiate the inevitable with our ever insufficient, desperate words.\n",
            "selfmusing  t.co/5cqKIoO2C8\n",
            "11 )  Often the difference between what is miserable and that which is spectacular, lies is the leap of our faith...\n",
            "selfmusing \n"
          ],
          "name": "stdout"
        }
      ]
    },
    {
      "cell_type": "code",
      "metadata": {
        "id": "OYLLp8OGSG6B",
        "colab": {
          "base_uri": "https://localhost:8080/",
          "height": 390
        },
        "outputId": "491e335f-1d4f-46bd-ed89-9f812d4dfbe6"
      },
      "source": [
        "DFSorted= df.sort_values(by = \"Polarity\",ascending= True)\n",
        "DFSorted.head(11)"
      ],
      "execution_count": null,
      "outputs": [
        {
          "output_type": "execute_result",
          "data": {
            "text/html": [
              "<div>\n",
              "<style scoped>\n",
              "    .dataframe tbody tr th:only-of-type {\n",
              "        vertical-align: middle;\n",
              "    }\n",
              "\n",
              "    .dataframe tbody tr th {\n",
              "        vertical-align: top;\n",
              "    }\n",
              "\n",
              "    .dataframe thead th {\n",
              "        text-align: right;\n",
              "    }\n",
              "</style>\n",
              "<table border=\"1\" class=\"dataframe\">\n",
              "  <thead>\n",
              "    <tr style=\"text-align: right;\">\n",
              "      <th></th>\n",
              "      <th>Tweets</th>\n",
              "      <th>Plrty</th>\n",
              "      <th>Sbjecty</th>\n",
              "      <th>Polarity</th>\n",
              "      <th>Subjectivity</th>\n",
              "      <th>Analysis</th>\n",
              "    </tr>\n",
              "  </thead>\n",
              "  <tbody>\n",
              "    <tr>\n",
              "      <th>69</th>\n",
              "      <td>Arey Sexaaa! Mere dost!\\nWohi Chhichhora...</td>\n",
              "      <td>-0.781250</td>\n",
              "      <td>0.500000</td>\n",
              "      <td>-0.781250</td>\n",
              "      <td>0.500000</td>\n",
              "      <td>negative</td>\n",
              "    </tr>\n",
              "    <tr>\n",
              "      <th>33</th>\n",
              "      <td>: Drive racing to Netflix soon &amp;amp; Makhna co...</td>\n",
              "      <td>-0.750000</td>\n",
              "      <td>0.900000</td>\n",
              "      <td>-0.750000</td>\n",
              "      <td>0.900000</td>\n",
              "      <td>negative</td>\n",
              "    </tr>\n",
              "    <tr>\n",
              "      <th>23</th>\n",
              "      <td>The West says,we minimise evil by conquering i...</td>\n",
              "      <td>-0.387216</td>\n",
              "      <td>0.505682</td>\n",
              "      <td>-0.387216</td>\n",
              "      <td>0.505682</td>\n",
              "      <td>negative</td>\n",
              "    </tr>\n",
              "    <tr>\n",
              "      <th>90</th>\n",
              "      <td>Dream 33/150\\nCreate non-zero sum, darwinian, ...</td>\n",
              "      <td>-0.300000</td>\n",
              "      <td>0.400000</td>\n",
              "      <td>-0.300000</td>\n",
              "      <td>0.400000</td>\n",
              "      <td>negative</td>\n",
              "    </tr>\n",
              "    <tr>\n",
              "      <th>60</th>\n",
              "      <td>: Space is hard. We commend s attempt to land ...</td>\n",
              "      <td>-0.291667</td>\n",
              "      <td>0.541667</td>\n",
              "      <td>-0.291667</td>\n",
              "      <td>0.541667</td>\n",
              "      <td>negative</td>\n",
              "    </tr>\n",
              "    <tr>\n",
              "      <th>32</th>\n",
              "      <td>Lets please come together in any way possible ...</td>\n",
              "      <td>-0.250000</td>\n",
              "      <td>1.000000</td>\n",
              "      <td>-0.250000</td>\n",
              "      <td>1.000000</td>\n",
              "      <td>negative</td>\n",
              "    </tr>\n",
              "    <tr>\n",
              "      <th>98</th>\n",
              "      <td>Often the difference between what is miserable...</td>\n",
              "      <td>-0.200000</td>\n",
              "      <td>0.950000</td>\n",
              "      <td>-0.200000</td>\n",
              "      <td>0.950000</td>\n",
              "      <td>negative</td>\n",
              "    </tr>\n",
              "    <tr>\n",
              "      <th>95</th>\n",
              "      <td>Our eyes blinked in mutual agreement, much bef...</td>\n",
              "      <td>-0.133333</td>\n",
              "      <td>0.733333</td>\n",
              "      <td>-0.133333</td>\n",
              "      <td>0.733333</td>\n",
              "      <td>negative</td>\n",
              "    </tr>\n",
              "    <tr>\n",
              "      <th>76</th>\n",
              "      <td>An artists  attempt to interact with the unkno...</td>\n",
              "      <td>-0.125000</td>\n",
              "      <td>0.600000</td>\n",
              "      <td>-0.125000</td>\n",
              "      <td>0.600000</td>\n",
              "      <td>negative</td>\n",
              "    </tr>\n",
              "    <tr>\n",
              "      <th>88</th>\n",
              "      <td>Acquired meanings that are not emergent of cel...</td>\n",
              "      <td>-0.100000</td>\n",
              "      <td>0.600000</td>\n",
              "      <td>-0.100000</td>\n",
              "      <td>0.600000</td>\n",
              "      <td>negative</td>\n",
              "    </tr>\n",
              "    <tr>\n",
              "      <th>44</th>\n",
              "      <td>: This is NASA's new visualization of a black ...</td>\n",
              "      <td>-0.015152</td>\n",
              "      <td>0.443939</td>\n",
              "      <td>-0.015152</td>\n",
              "      <td>0.443939</td>\n",
              "      <td>negative</td>\n",
              "    </tr>\n",
              "  </tbody>\n",
              "</table>\n",
              "</div>"
            ],
            "text/plain": [
              "                                               Tweets  ...  Analysis\n",
              "69        Arey Sexaaa! Mere dost!\\nWohi Chhichhora...  ...  negative\n",
              "33  : Drive racing to Netflix soon &amp; Makhna co...  ...  negative\n",
              "23  The West says,we minimise evil by conquering i...  ...  negative\n",
              "90  Dream 33/150\\nCreate non-zero sum, darwinian, ...  ...  negative\n",
              "60  : Space is hard. We commend s attempt to land ...  ...  negative\n",
              "32  Lets please come together in any way possible ...  ...  negative\n",
              "98  Often the difference between what is miserable...  ...  negative\n",
              "95  Our eyes blinked in mutual agreement, much bef...  ...  negative\n",
              "76  An artists  attempt to interact with the unkno...  ...  negative\n",
              "88  Acquired meanings that are not emergent of cel...  ...  negative\n",
              "44  : This is NASA's new visualization of a black ...  ...  negative\n",
              "\n",
              "[11 rows x 6 columns]"
            ]
          },
          "metadata": {
            "tags": []
          },
          "execution_count": 90
        }
      ]
    },
    {
      "cell_type": "markdown",
      "metadata": {
        "id": "UWarcLi5U6o_"
      },
      "source": [
        "So, This was our Twitter Sentiment Analysis for Sushant singh rajput.\n",
        "Only 11% tweets were negative."
      ]
    }
  ]
}